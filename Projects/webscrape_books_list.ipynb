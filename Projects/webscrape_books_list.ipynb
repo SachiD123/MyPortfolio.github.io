{
 "cells": [
  {
   "cell_type": "code",
   "execution_count": 1,
   "id": "3bef7a0b",
   "metadata": {},
   "outputs": [],
   "source": [
    "import os\n",
    "os.chdir(r\"C:\\Users\\shachini dinushika\\Documents\\MyDS_Projects\")"
   ]
  },
  {
   "cell_type": "code",
   "execution_count": 2,
   "id": "1bc4ecff",
   "metadata": {},
   "outputs": [],
   "source": [
    "import requests \n",
    "from bs4 import BeautifulSoup \n",
    "import pandas as pd\n",
    "import numpy as np"
   ]
  },
  {
   "cell_type": "code",
   "execution_count": 15,
   "id": "0e62e0fc",
   "metadata": {},
   "outputs": [],
   "source": [
    "def get_title(result):\n",
    "    try:\n",
    "        title  = result.find(\"a\", class_= \"bookTitle\").text.strip()\n",
    "    except AttributeError:\n",
    "        title  = \"\"\n",
    "    return title\n",
    "\n",
    "def get_author(result):\n",
    "    try:\n",
    "        author = result.find(\"a\", class_= \"authorName\").text.strip(\"\").replace(\"  \",\"\")\n",
    "    except AttributeError:\n",
    "        author  = \"\"\n",
    "    return author\n",
    "\n",
    "import re\n",
    "def get_year(result):\n",
    "    try:\n",
    "        year = result.find(\"span\", class_= \"greyText smallText uitext\").text.strip()\n",
    "        year = re.search(r'\\b(\\d{4})\\b', year)\n",
    "        if year:\n",
    "            year=year.group(1)\n",
    "            year\n",
    "        else: 0\n",
    "    except AttributeError:\n",
    "        year  = \"\"\n",
    "    return year\n",
    "\n",
    "def get_ratings(result):\n",
    "    try:\n",
    "        ratings = result.find(\"span\", class_= \"minirating\").text.strip()\n",
    "    except AttributeError:\n",
    "        ratings  = \"\"\n",
    "    return ratings\n"
   ]
  },
  {
   "cell_type": "code",
   "execution_count": 16,
   "id": "32d6f50f",
   "metadata": {},
   "outputs": [],
   "source": [
    "url = 'https://www.goodreads.com/search?utf8=%E2%9C%93&q=best+novels&search_type=books'"
   ]
  },
  {
   "cell_type": "code",
   "execution_count": 17,
   "id": "d6cfca8a",
   "metadata": {},
   "outputs": [],
   "source": [
    "# create page scraper function\n",
    "def page_scrape(url):\n",
    "    r = requests.get(url)\n",
    "    if r.status_code == 200:\n",
    "        soup = BeautifulSoup(r.text, 'html.parser')\n",
    "        results = soup.find_all(\"tr\", attrs={'itemtype':'http://schema.org/Book'})\n",
    "        data =[]\n",
    "        for result in results:\n",
    "            title  = get_title(result)\n",
    "            year  = get_year(result)\n",
    "            author = get_author(result)\n",
    "            ratings = get_ratings(result)\n",
    "            data.append(( title,year, author, ratings))\n",
    "        return data\n",
    "    else:\n",
    "        print(f\"Failed to retrieve content. Status code: {r.status_code}\")\n",
    "        return []\n",
    "    \n",
    "## create all page scraper function\n",
    "def all_pages(url, pages):\n",
    "    all_books_list = [] \n",
    "    \n",
    "    for page in range(1, pages+1):\n",
    "        page_url = f\"{url}&page={page}\"\n",
    "        books_list = page_scrape(page_url)\n",
    "        all_books_list.extend(books_list) \n",
    "    return all_books_list"
   ]
  },
  {
   "cell_type": "code",
   "execution_count": 20,
   "id": "9c8b484c",
   "metadata": {},
   "outputs": [
    {
     "name": "stdout",
     "output_type": "stream",
     "text": [
      "[('Sandra Brown: Three Complete Novels', '1992', 'Sandra Brown', '4.24 avg rating — 418 ratings'), ('Of Human Bondage (Modern Library 100 Best Novels)', '1915', 'W. Somerset Maugham', '4.14 avg rating — 56,303 ratings'), ('The House of Mirth (Modern Library 100 Best Novels)', '1905', 'Edith Wharton', '3.96 avg rating — 96,286 ratings'), (\"Kaidenberg's Best Sons: A Novel in Stories\", None, 'Jason Heit', '4.16 avg rating — 19 ratings')]\n"
     ]
    }
   ],
   "source": [
    "\n",
    "url = 'https://www.goodreads.com/search?utf8=%E2%9C%93&q=best+novels&search_type=books'\n",
    "num_pages_to_scrape = 100  # Set the number of pages to scrape\n",
    "\n",
    "data = all_pages(url, num_pages_to_scrape)\n",
    "\n",
    "# Print or do further processing with the 'all_book_titles' list\n",
    "print(data[1:5])"
   ]
  },
  {
   "cell_type": "code",
   "execution_count": 21,
   "id": "00b014a0",
   "metadata": {},
   "outputs": [
    {
     "data": {
      "text/plain": [
       "1974"
      ]
     },
     "execution_count": 21,
     "metadata": {},
     "output_type": "execute_result"
    }
   ],
   "source": [
    "len(data)"
   ]
  },
  {
   "cell_type": "code",
   "execution_count": 22,
   "id": "4e36c54e",
   "metadata": {},
   "outputs": [
    {
     "data": {
      "text/html": [
       "<div>\n",
       "<style scoped>\n",
       "    .dataframe tbody tr th:only-of-type {\n",
       "        vertical-align: middle;\n",
       "    }\n",
       "\n",
       "    .dataframe tbody tr th {\n",
       "        vertical-align: top;\n",
       "    }\n",
       "\n",
       "    .dataframe thead th {\n",
       "        text-align: right;\n",
       "    }\n",
       "</style>\n",
       "<table border=\"1\" class=\"dataframe\">\n",
       "  <thead>\n",
       "    <tr style=\"text-align: right;\">\n",
       "      <th></th>\n",
       "      <th>Title</th>\n",
       "      <th>Year</th>\n",
       "      <th>Author</th>\n",
       "      <th>ratings</th>\n",
       "    </tr>\n",
       "  </thead>\n",
       "  <tbody>\n",
       "    <tr>\n",
       "      <th>0</th>\n",
       "      <td>The Great American Read: The Book of Books: Ex...</td>\n",
       "      <td>2018</td>\n",
       "      <td>Jessica Allen</td>\n",
       "      <td>4.09 avg rating — 959 ratings</td>\n",
       "    </tr>\n",
       "    <tr>\n",
       "      <th>1</th>\n",
       "      <td>Sandra Brown: Three Complete Novels</td>\n",
       "      <td>1992</td>\n",
       "      <td>Sandra Brown</td>\n",
       "      <td>4.24 avg rating — 418 ratings</td>\n",
       "    </tr>\n",
       "    <tr>\n",
       "      <th>2</th>\n",
       "      <td>Of Human Bondage (Modern Library 100 Best Novels)</td>\n",
       "      <td>1915</td>\n",
       "      <td>W. Somerset Maugham</td>\n",
       "      <td>4.14 avg rating — 56,303 ratings</td>\n",
       "    </tr>\n",
       "    <tr>\n",
       "      <th>3</th>\n",
       "      <td>The House of Mirth (Modern Library 100 Best No...</td>\n",
       "      <td>1905</td>\n",
       "      <td>Edith Wharton</td>\n",
       "      <td>3.96 avg rating — 96,286 ratings</td>\n",
       "    </tr>\n",
       "    <tr>\n",
       "      <th>4</th>\n",
       "      <td>Kaidenberg's Best Sons: A Novel in Stories</td>\n",
       "      <td>None</td>\n",
       "      <td>Jason Heit</td>\n",
       "      <td>4.16 avg rating — 19 ratings</td>\n",
       "    </tr>\n",
       "  </tbody>\n",
       "</table>\n",
       "</div>"
      ],
      "text/plain": [
       "                                               Title  Year  \\\n",
       "0  The Great American Read: The Book of Books: Ex...  2018   \n",
       "1                Sandra Brown: Three Complete Novels  1992   \n",
       "2  Of Human Bondage (Modern Library 100 Best Novels)  1915   \n",
       "3  The House of Mirth (Modern Library 100 Best No...  1905   \n",
       "4         Kaidenberg's Best Sons: A Novel in Stories  None   \n",
       "\n",
       "                Author                           ratings  \n",
       "0        Jessica Allen     4.09 avg rating — 959 ratings  \n",
       "1         Sandra Brown     4.24 avg rating — 418 ratings  \n",
       "2  W. Somerset Maugham  4.14 avg rating — 56,303 ratings  \n",
       "3        Edith Wharton  3.96 avg rating — 96,286 ratings  \n",
       "4           Jason Heit      4.16 avg rating — 19 ratings  "
      ]
     },
     "execution_count": 22,
     "metadata": {},
     "output_type": "execute_result"
    }
   ],
   "source": [
    "#create a data frame for the books info\n",
    "\n",
    "books = pd.DataFrame(data,columns =['Title','Year','Author','ratings'])\n",
    "\n",
    "books.head()"
   ]
  },
  {
   "cell_type": "code",
   "execution_count": 23,
   "id": "41fe56e1",
   "metadata": {},
   "outputs": [],
   "source": [
    "books.to_csv(\"goodreads_books.csv\",index = False, encoding  = 'utf-8')"
   ]
  }
 ],
 "metadata": {
  "kernelspec": {
   "display_name": "Python 3 (ipykernel)",
   "language": "python",
   "name": "python3"
  },
  "language_info": {
   "codemirror_mode": {
    "name": "ipython",
    "version": 3
   },
   "file_extension": ".py",
   "mimetype": "text/x-python",
   "name": "python",
   "nbconvert_exporter": "python",
   "pygments_lexer": "ipython3",
   "version": "3.10.9"
  }
 },
 "nbformat": 4,
 "nbformat_minor": 5
}
