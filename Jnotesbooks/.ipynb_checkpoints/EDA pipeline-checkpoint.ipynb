{
 "cells": [
  {
   "cell_type": "code",
   "execution_count": null,
   "id": "0f223ff5",
   "metadata": {},
   "outputs": [],
   "source": [
    "Import libraries"
   ]
  },
  {
   "cell_type": "code",
   "execution_count": null,
   "id": "20c5fdb7",
   "metadata": {},
   "outputs": [],
   "source": [
    "Get data"
   ]
  },
  {
   "cell_type": "code",
   "execution_count": null,
   "id": "619745b5",
   "metadata": {},
   "outputs": [],
   "source": [
    "Understand data types"
   ]
  },
  {
   "cell_type": "code",
   "execution_count": null,
   "id": "36f173e6",
   "metadata": {},
   "outputs": [],
   "source": [
    "Estimates of location\n",
    "## central tendancy - mean,median,mode,quartiles etc"
   ]
  },
  {
   "cell_type": "code",
   "execution_count": null,
   "id": "9327ee51",
   "metadata": {},
   "outputs": [],
   "source": [
    "Estimates of variability(Dispersion of data)\n"
   ]
  },
  {
   "cell_type": "code",
   "execution_count": null,
   "id": "21f5346d",
   "metadata": {},
   "outputs": [],
   "source": []
  },
  {
   "cell_type": "code",
   "execution_count": null,
   "id": "2ea87490",
   "metadata": {},
   "outputs": [],
   "source": []
  }
 ],
 "metadata": {
  "kernelspec": {
   "display_name": "Python 3 (ipykernel)",
   "language": "python",
   "name": "python3"
  },
  "language_info": {
   "codemirror_mode": {
    "name": "ipython",
    "version": 3
   },
   "file_extension": ".py",
   "mimetype": "text/x-python",
   "name": "python",
   "nbconvert_exporter": "python",
   "pygments_lexer": "ipython3",
   "version": "3.10.9"
  }
 },
 "nbformat": 4,
 "nbformat_minor": 5
}
