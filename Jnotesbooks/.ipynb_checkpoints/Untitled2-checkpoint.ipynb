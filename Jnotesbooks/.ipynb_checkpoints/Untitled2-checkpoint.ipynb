{
 "cells": [
  {
   "cell_type": "code",
   "execution_count": 1,
   "id": "0600f66a",
   "metadata": {},
   "outputs": [],
   "source": [
    "import numpy as np\n",
    "import pandas as pd\n",
    "import sklearn\n",
    "import matplotlib.pyplot as plt\n",
    "import seaborn as sns\n",
    "from sklearn.model_selection import train_test_split\n",
    "from sklearn.preprocessing import StandardScaler\n",
    "from sklearn.linear_model import LogisticRegression\n",
    "from sklearn.metrics import accuracy_score\n"
   ]
  },
  {
   "cell_type": "code",
   "execution_count": 4,
   "id": "9e1452d4",
   "metadata": {},
   "outputs": [],
   "source": [
    "class PredictionModel:\n",
    "    def __init__(self,model):\n",
    "        self.model = model\n",
    "        self.scaler = None\n",
    "    \n",
    "    def preprocess_data(self,filepath):\n",
    "        data = pd.read_csv(filepath)\n",
    "        \n",
    "        X = data.iloc[:,:-1].values\n",
    "        y = data.iloc[:,-1].values\n",
    "    \n",
    "        X_train,X_test,y_train,y_test = train_test_split(X, y, test_size=0.2, random_state=42)\n",
    "        \n",
    "        self.scaler = StandardScaler()\n",
    "        X_train_scaled = self.scaler.fit_transform(X_train)\n",
    "        X_test_scaled = self.scaler.transform(X_test)\n",
    "        return X_train_scaled, X_test_scaled, y_train, y_test\n",
    "    \n",
    "    def train(self,X_train,y_train):\n",
    "        self.model.fit(X_train,y_train)\n",
    "        print(\"Model training complete\")\n",
    "        \n",
    "    def evaluate(self,X_test,y_test):\n",
    "        y_pred = self.model.predict(X_test)\n",
    "        accuracy = accuracy_score(y_test, y_pred)\n",
    "        print(f\"Model accuracy: {accuracy * 100:.2f}%\")\n",
    "        return accuracy\n",
    "    \n",
    "    def predict(self, X_new):\n",
    "        X_new_scaled = self.scaler.transform(X_new)\n",
    "        predictions = self.model.predict(X_new_scaled)\n",
    "        return predictions\n",
    "        \n",
    "    "
   ]
  },
  {
   "cell_type": "code",
   "execution_count": 9,
   "id": "94a82377",
   "metadata": {},
   "outputs": [
    {
     "name": "stdout",
     "output_type": "stream",
     "text": [
      "Model training complete\n",
      "Model accuracy: 96.67%\n",
      "Predictions on new data: ['Iris-setosa' 'Iris-setosa']\n"
     ]
    }
   ],
   "source": [
    "if __name__ == \"__main__\" :\n",
    "    workflow = PredictionModel(LogisticRegression(solver='liblinear'))\n",
    "\n",
    "    filepath = 'C:/Users/shachini dinushika/Documents/ML/data/Iris.csv'\n",
    "\n",
    "    X_train, X_test, y_train, y_test = workflow.preprocess_data(filepath)\n",
    "\n",
    "    workflow.train(X_train, y_train)\n",
    "\n",
    "    workflow.evaluate(X_test, y_test)\n",
    "\n",
    "    X_new = [[3, 5, 4, 2], [5, 4, 3, 2]]\n",
    "\n",
    "    predictions = workflow.predict(X_new)\n",
    "\n",
    "    print(f\"Predictions on new data: {predictions}\")\n",
    "\n"
   ]
  },
  {
   "cell_type": "code",
   "execution_count": null,
   "id": "fb1fae8b",
   "metadata": {},
   "outputs": [],
   "source": []
  },
  {
   "cell_type": "code",
   "execution_count": null,
   "id": "b4c6c65b",
   "metadata": {},
   "outputs": [],
   "source": []
  }
 ],
 "metadata": {
  "kernelspec": {
   "display_name": "Python 3 (ipykernel)",
   "language": "python",
   "name": "python3"
  },
  "language_info": {
   "codemirror_mode": {
    "name": "ipython",
    "version": 3
   },
   "file_extension": ".py",
   "mimetype": "text/x-python",
   "name": "python",
   "nbconvert_exporter": "python",
   "pygments_lexer": "ipython3",
   "version": "3.10.9"
  }
 },
 "nbformat": 4,
 "nbformat_minor": 5
}
